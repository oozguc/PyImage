{
 "cells": [
  {
   "cell_type": "code",
   "execution_count": 1,
   "metadata": {},
   "outputs": [],
   "source": [
    "import sys\n",
    "sys.path.insert(0, \"/Users/oozguc/ozprograms/PyImage/utils\")\n",
    "import numpy as np\n",
    "\n",
    "import importlib\n",
    "import matplotlib.pyplot as plt\n",
    "import os\n",
    "import glob\n",
    "import skimage\n",
    "from skimage import measure\n",
    "from skimage import filters\n",
    "from Normalize import normalizeFloat, normalizeMinMax, Path, save_tiff_imagej_compatible\n",
    "from skimage.filters import threshold_otsu\n",
    "from tifffile import imread\n",
    "from GaussFit import MakePath"
   ]
  },
  {
   "cell_type": "code",
   "execution_count": 2,
   "metadata": {},
   "outputs": [],
   "source": [
    "basedir = '/Users/oozguc/Desktop/wt_wavemovies_BF_from_myosin_project/split'\n",
    "targetdir =  '/Users/oozguc/Desktop/wt_wavemovies_BF_from_myosin_project/split/'"
   ]
  },
  {
   "cell_type": "code",
   "execution_count": 3,
   "metadata": {},
   "outputs": [
    {
     "name": "stdout",
     "output_type": "stream",
     "text": [
      "Total number of input images =  1\n",
      "Image size =  (121, 333, 333)\n"
     ]
    }
   ],
   "source": [
    "Path = os.path.join(basedir, '*.tif')\n",
    "MakePath(targetdir)\n",
    "\n",
    "BigZ = []\n",
    "Names = []\n",
    "filesRaw = glob.glob(Path)\n",
    "maxtime = 0\n",
    "axes = 'YX'\n",
    "for fname in filesRaw:\n",
    "      x = imread(fname)\n",
    "     \n",
    "      \n",
    "      BigZ.append(x)\n",
    "   \n",
    "     \n",
    "      Names.append(fname)\n",
    "      \n",
    "    \n",
    "BigZ.sort\n",
    "Names.sort\n",
    "\n",
    "CommonName = '190423_wt_wavemovie1_bottomright_t'\n",
    "print('Total number of input images = ', len(BigZ))\n",
    "print('Image size = ', BigZ[0].shape)"
   ]
  },
  {
   "cell_type": "code",
   "execution_count": 4,
   "metadata": {},
   "outputs": [],
   "source": [
    "for i in range(0, len(BigZ)):\n",
    "  img = BigZ[i]\n",
    "  for j in range(0, img.shape[0]):\n",
    "    smallimg = img[j,:,:]\n",
    "    \n",
    "    strAdd = ''\n",
    "    if j < 9:\n",
    "      strAdd = '00'\n",
    "    if j >=9:\n",
    "      strAdd = '0' \n",
    "    if j >= 99:\n",
    "       strAdd = '' \n",
    "    \n",
    "    save_tiff_imagej_compatible((targetdir + CommonName + strAdd +  str(j + 1)+ '.tif') , smallimg, axes)"
   ]
  },
  {
   "cell_type": "code",
   "execution_count": null,
   "metadata": {},
   "outputs": [],
   "source": []
  }
 ],
 "metadata": {
  "kernelspec": {
   "display_name": "Python [default]",
   "language": "python",
   "name": "python3"
  },
  "language_info": {
   "codemirror_mode": {
    "name": "ipython",
    "version": 3
   },
   "file_extension": ".py",
   "mimetype": "text/x-python",
   "name": "python",
   "nbconvert_exporter": "python",
   "pygments_lexer": "ipython3",
   "version": "3.6.5"
  }
 },
 "nbformat": 4,
 "nbformat_minor": 2
}
