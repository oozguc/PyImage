{
 "cells": [
  {
   "cell_type": "code",
   "execution_count": 1,
   "metadata": {},
   "outputs": [
    {
     "ename": "ModuleNotFoundError",
     "evalue": "No module named 'Normalize'",
     "output_type": "error",
     "traceback": [
      "\u001b[0;31m---------------------------------------------------------------------------\u001b[0m",
      "\u001b[0;31mModuleNotFoundError\u001b[0m                       Traceback (most recent call last)",
      "\u001b[0;32m<ipython-input-1-585bdcfdfaf9>\u001b[0m in \u001b[0;36m<module>\u001b[0;34m\u001b[0m\n\u001b[1;32m      6\u001b[0m \u001b[0;32mfrom\u001b[0m \u001b[0mtifffile\u001b[0m \u001b[0;32mimport\u001b[0m \u001b[0mimread\u001b[0m\u001b[0;34m\u001b[0m\u001b[0;34m\u001b[0m\u001b[0m\n\u001b[1;32m      7\u001b[0m \u001b[0;32mimport\u001b[0m \u001b[0mmatplotlib\u001b[0m\u001b[0;34m.\u001b[0m\u001b[0mpyplot\u001b[0m \u001b[0;32mas\u001b[0m \u001b[0mplt\u001b[0m\u001b[0;34m\u001b[0m\u001b[0;34m\u001b[0m\u001b[0m\n\u001b[0;32m----> 8\u001b[0;31m \u001b[0;32mfrom\u001b[0m \u001b[0mNormalize\u001b[0m \u001b[0;32mimport\u001b[0m \u001b[0mnormalizeFloat\u001b[0m\u001b[0;34m,\u001b[0m \u001b[0mnormalizeMinMax\u001b[0m\u001b[0;34m,\u001b[0m \u001b[0mPath\u001b[0m\u001b[0;34m,\u001b[0m \u001b[0msave_tiff_imagej_compatible\u001b[0m\u001b[0;34m\u001b[0m\u001b[0;34m\u001b[0m\u001b[0m\n\u001b[0m\u001b[1;32m      9\u001b[0m \u001b[0;32mfrom\u001b[0m \u001b[0mplot_utils\u001b[0m \u001b[0;32mimport\u001b[0m \u001b[0msingleplot\u001b[0m\u001b[0;34m,\u001b[0m \u001b[0mplotXY\u001b[0m\u001b[0;34m,\u001b[0m \u001b[0mdoubleplot\u001b[0m\u001b[0;34m\u001b[0m\u001b[0;34m\u001b[0m\u001b[0m\n\u001b[1;32m     10\u001b[0m \u001b[0;32mfrom\u001b[0m \u001b[0mGaussFit\u001b[0m \u001b[0;32mimport\u001b[0m \u001b[0mStripFit\u001b[0m\u001b[0;34m,\u001b[0m \u001b[0mLinescan\u001b[0m\u001b[0;34m,\u001b[0m \u001b[0mShiftFit\u001b[0m\u001b[0;34m,\u001b[0m\u001b[0mFinalShiftFit\u001b[0m\u001b[0;34m\u001b[0m\u001b[0;34m\u001b[0m\u001b[0m\n",
      "\u001b[0;31mModuleNotFoundError\u001b[0m: No module named 'Normalize'"
     ]
    }
   ],
   "source": [
    "import sys\n",
    "sys.path.insert(0, \"/Users/labo_dupe/Documents/GitHub/PyImage/utils/\")\n",
    "import numpy as np\n",
    "from PIL import Image\n",
    "import os\n",
    "from tifffile import imread\n",
    "import matplotlib.pyplot as plt\n",
    "from Normalize import normalizeFloat, normalizeMinMax, Path, save_tiff_imagej_compatible\n",
    "from plot_utils import singleplot, plotXY, doubleplot\n",
    "from GaussFit import StripFit, Linescan, ShiftFit,FinalShiftFit\n",
    "from HoughLine import show_hough_linetransform, show_ransac_points_line, show_plot, Correlation_plot,show_intensity_plot, Peak_Data\n",
    "from bokeh.models import Label\n",
    "from bokeh.io import export_png\n",
    "from bokeh.plotting import figure, show, output_notebook\n",
    "from IPython.display import clear_output\n",
    "from bokeh.models import Range1d\n",
    "import csv\n",
    "from GaussFit import MakePath"
   ]
  },
  {
   "cell_type": "code",
   "execution_count": null,
   "metadata": {},
   "outputs": [],
   "source": [
    "targetdir = 'F:/Ozge/20190417_colorcorrected_croped/box_10um_LS_20px_40um'\n",
    "\n",
    "Membraneimage = 'F:/Ozge/20190417_colorcorrected_croped/box_10um_LS_20px_40um/Ch1LineScan_C2-20190417_1x16_1TrackID1.tif'\n",
    "\n",
    "Actinimage = 'F:/Ozge/20190417_colorcorrected_croped/box_10um_LS_20px_40um/Ch2LineScan_C2-20190417_1x16_1TrackID1.tif'\n",
    "\n",
    "\n",
    "#Enter time unit in seconds\n",
    "Time_unit = 5\n",
    "#Enter pixel to micrometer conversion\n",
    "Xcalibration = 0.1032\n",
    "#Enter the number of pixels to be included in the fit\n",
    "Fitaround= 8\n",
    "\n",
    "\n",
    "#Symmetric psf as input (micrometers)\n",
    "psf = 0.17\n",
    "\n",
    "showaftertime = 100\n",
    "inisigmaguess =  psf\n",
    "#Size of linescan\n",
    "skip = 50\n",
    "singleblock = 80 \n",
    "\n",
    "#Number of segments\n",
    "numsegments = 10\n",
    "id = []\n",
    "for i in range(0, numsegments):\n",
    "    id.append(i)\n",
    "    \n",
    "MakePath(targetdir)    \n",
    "save_dir = targetdir + 'ls_data_block'    \n",
    "MakePath(save_dir)\n"
   ]
  },
  {
   "cell_type": "code",
   "execution_count": null,
   "metadata": {
    "scrolled": false
   },
   "outputs": [],
   "source": [
    "Actin = imread(Actinimage)\n",
    "Membrane = imread(Membraneimage)\n",
    "\n",
    "doubleplot(Actin, Membrane, 'Actin Channel', 'Membrane Channel')\n",
    "blockimageActin = []\n",
    "blockimageMembrane = []\n",
    "\n",
    "i = 0\n",
    "while i < Actin.shape[0]:\n",
    "       \n",
    "   blockActin = Actin[i:i + singleblock,:]#/np.amax(Actin[i:i + singleblock,:], 0)\n",
    "   blockMembrane = Membrane[i:i + singleblock,:]#/np.amax(Membrane[i:i + singleblock,:],0)\n",
    "   \n",
    "   blockimageActin.append(blockActin)\n",
    "   blockimageMembrane.append(blockMembrane)\n",
    "   doubleplot(blockActin, blockMembrane, 'Actin Channel', 'Membrane Channel')\n",
    "   i = i + singleblock + skip \n",
    "\n",
    "halflength = int(len(blockimageActin)/2)\n",
    "otherhalf = len(blockimageActin) - halflength\n",
    "totallength = len(blockimageActin)\n"
   ]
  },
  {
   "cell_type": "code",
   "execution_count": null,
   "metadata": {
    "scrolled": false
   },
   "outputs": [],
   "source": [
    "\n"
   ]
  },
  {
   "cell_type": "code",
   "execution_count": null,
   "metadata": {},
   "outputs": [],
   "source": []
  },
  {
   "cell_type": "code",
   "execution_count": null,
   "metadata": {
    "scrolled": false
   },
   "outputs": [],
   "source": [
    "%%time\n",
    "global Thickness, Intensity, PeakActin, DataActin, PeakMembrane, DataMembrane, Time, ID, BlockAverageActin, BlockAverageMembrane\n",
    "global Thickness_intensity, Thickness_id\n",
    "#Fit all blocks\n",
    "\n",
    "Thickness = []\n",
    "Intensity = []\n",
    "PeakActin = []\n",
    "DataActin = []\n",
    "PeakMembrane = []\n",
    "DataMembrane = []\n",
    "Time = []\n",
    "ID = []\n",
    "\n",
    "BlockAverageActin = []\n",
    "BlockAverageMembrane = []\n",
    "for i in range(0, totallength):\n",
    "    \n",
    " BlockActin = []\n",
    " BlockMembrane = []\n",
    "    \n",
    " print('block id', i+1) \n",
    " currentid = i+1\n",
    " ID.append(i + 1)\n",
    " Actin = blockimageActin[i]\n",
    " Membrane = blockimageMembrane[i]\n",
    " \n",
    " StripFit(Membrane, Actin, Time_unit, Xcalibration, Fitaround, psf, inisigmaguess, showaftertime, Thickness, Intensity, PeakActin, BlockActin, PeakMembrane, BlockMembrane, BlockAverageActin,BlockAverageMembrane, Time, 0)\n",
    " Correlation_plot(Thickness, Intensity, ID)\n",
    " \n",
    " print(\"Thickness (min)\",np.min(Thickness) *1000, \"nm\")\n",
    " print(\"Thickness (median)\",np.median(Thickness) *1000, \"nm\")\n",
    " print(\"Thickness (max)\",np.max(Thickness) *1000, \"nm\")\n",
    " \n",
    " Thickness_intensity = np.column_stack([Thickness, Intensity]) \n",
    " \n",
    " Thickness_id = np.column_stack([Thickness, ID]) \n",
    " \n",
    "\n",
    " #clear_output(wait = True)\n",
    "    \n"
   ]
  },
  {
   "cell_type": "code",
   "execution_count": null,
   "metadata": {
    "scrolled": false
   },
   "outputs": [],
   "source": [
    "\n",
    "master_data= []\n",
    "\n",
    "Path(save_dir).mkdir(exist_ok = True)\n",
    "\n",
    "for line in Thickness_id:\n",
    "    master_data.append(line)\n",
    "file =    open(save_dir + \"/\" + ( \"Block\" + os.path.basename(Actinimage))  +\".csv\", \"w\")\n",
    "writer = csv.writer(file)\n",
    "writer.writerows(master_data) \n",
    "file.close()\n"
   ]
  },
  {
   "cell_type": "code",
   "execution_count": null,
   "metadata": {
    "scrolled": false
   },
   "outputs": [],
   "source": [
    "num_clusters = 2\n",
    "show_intensity_plot(Thickness_intensity,save_dir,os.path.basename(Actinimage), ymin = 0, ymax = 0.5, num_clusters = num_clusters )\n",
    "\n",
    "\n",
    "\n",
    "FinalThickness = []\n",
    "FinalIntensity = []\n",
    "FinalTime = []\n",
    "FinalShiftFit(BlockAverageActin, BlockAverageMembrane, Time_unit, Xcalibration, Fitaround\n",
    "             , psf, inisigmaguess, showaftertime,FinalThickness, FinalIntensity,   FinalTime, 0)\n",
    "\n",
    "Final_master_data= []\n",
    "Final_Thickness = np.column_stack([FinalThickness, os.path.basename(Actinimage)]) \n",
    "\n",
    "\n",
    "for line in Final_Thickness:\n",
    "    Final_master_data.append(line)\n",
    "Final_file =    open(save_dir + \"/\" + ( \"Master\" + os.path.basename(Actinimage))  +\".csv\", \"w\")\n",
    "writer = csv.writer(Final_file)\n",
    "writer.writerows(Final_master_data) \n",
    "Final_file.close()\n",
    "\n"
   ]
  },
  {
   "cell_type": "code",
   "execution_count": null,
   "metadata": {},
   "outputs": [],
   "source": [
    "hist, edges = np.histogram((Thickness), density=False, bins='auto')\n",
    "p = figure(title=\"Estimated Cortex Thickness = \" + str('%.5f'%np.abs(edges[np.argmax(hist)] * 1000)) + 'nm', y_axis_label='Counts',x_axis_label='Thickness(um)')\n",
    "listedges = edges.tolist()\n",
    "listhist = hist.tolist()\n",
    "output_notebook()\n",
    "p.quad(top=hist, bottom=0, left=edges[:-1], right=edges[1:],\n",
    "    fill_color=\"#036564\", line_color=\"#033649\")\n",
    "for  i in range(0,len(listhist)):\n",
    "  if listhist[i] > 0:\n",
    "   mytext = Label(x=listedges[i], y=listhist[i], text=str('%.4f'%listedges[i]))\n",
    "   p.add_layout(mytext)\n",
    "show(p)    \n",
    "export_png(p, filename=save_dir +  \"/\" +  'Bokeh_Histogram' + os.path.basename(Actinimage) + '.png')    "
   ]
  },
  {
   "cell_type": "code",
   "execution_count": null,
   "metadata": {},
   "outputs": [],
   "source": []
  },
  {
   "cell_type": "code",
   "execution_count": null,
   "metadata": {},
   "outputs": [],
   "source": []
  },
  {
   "cell_type": "code",
   "execution_count": null,
   "metadata": {},
   "outputs": [],
   "source": [
    "  \n",
    "    "
   ]
  },
  {
   "cell_type": "code",
   "execution_count": null,
   "metadata": {},
   "outputs": [],
   "source": []
  }
 ],
 "metadata": {
  "kernelspec": {
   "display_name": "Python 3",
   "language": "python",
   "name": "python3"
  },
  "language_info": {
   "codemirror_mode": {
    "name": "ipython",
    "version": 3
   },
   "file_extension": ".py",
   "mimetype": "text/x-python",
   "name": "python",
   "nbconvert_exporter": "python",
   "pygments_lexer": "ipython3",
   "version": "3.7.2"
  }
 },
 "nbformat": 4,
 "nbformat_minor": 2
}
