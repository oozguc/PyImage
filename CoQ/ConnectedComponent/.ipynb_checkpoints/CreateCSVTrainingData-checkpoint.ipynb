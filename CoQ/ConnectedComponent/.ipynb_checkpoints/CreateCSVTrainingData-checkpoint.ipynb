{
 "cells": [
  {
   "cell_type": "code",
   "execution_count": 19,
   "metadata": {},
   "outputs": [],
   "source": [
    "import sys\n",
    "sys.path.insert(0, \"/Users/aimachine/PyImage/utils\")\n",
    "import numpy as np\n",
    "\n",
    "import importlib\n",
    "import matplotlib.pyplot as plt\n",
    "import os\n",
    "import glob\n",
    "import skimage\n",
    "from skimage import measure\n",
    "from skimage import filters\n",
    "from Normalize import normalizeFloat, normalizeMinMax, Path, save_tiff_imagej_compatible\n",
    "from skimage.filters import threshold_otsu\n",
    "from tifffile import imread\n",
    "import csv"
   ]
  },
  {
   "cell_type": "code",
   "execution_count": 47,
   "metadata": {},
   "outputs": [],
   "source": [
    "basedir = '/Volumes/TRANSCEND/TEANData/'"
   ]
  },
  {
   "cell_type": "code",
   "execution_count": 59,
   "metadata": {},
   "outputs": [
    {
     "name": "stdout",
     "output_type": "stream",
     "text": [
      "/Volumes/TRANSCEND/TEANData/\n",
      "/Volumes/TRANSCEND/TEANData/MoreOrigDividingMovies\n",
      "/Volumes/TRANSCEND/TEANData/NoisyMoreOrigApoptosisMovies\n",
      "/Volumes/TRANSCEND/TEANData/NoisyOriginalApoptosisMovies\n",
      "/Volumes/TRANSCEND/TEANData/NoisyMoreOrigDividingMovies\n",
      "/Volumes/TRANSCEND/TEANData/OriginalDividingMovies\n",
      "/Volumes/TRANSCEND/TEANData/NoisyOriginalDividingMovies\n",
      "/Volumes/TRANSCEND/TEANData/NoisyMoreOrigBoringMovies\n",
      "/Volumes/TRANSCEND/TEANData/MoreOrigApoptosisMovies\n",
      "/Volumes/TRANSCEND/TEANData/OriginalBoringMovies\n",
      "/Volumes/TRANSCEND/TEANData/RotatedDivisionMovies\n",
      "/Volumes/TRANSCEND/TEANData/OriginalApoptosisMovies\n",
      "/Volumes/TRANSCEND/TEANData/RotatedBoringMovies\n",
      "/Volumes/TRANSCEND/TEANData/RotatedApoptosisMovies\n",
      "/Volumes/TRANSCEND/TEANData/NoisyOriginalBoringMovies\n",
      "/Volumes/TRANSCEND/TEANData/MoreOrigBoringMovies\n"
     ]
    }
   ],
   "source": [
    "count = 0\n",
    "for subdir, dirs, files in os.walk(basedir):\n",
    "    FileName = os.path.basename(subdir)\n",
    "    \n",
    "    print(subdir)\n",
    "    T = 5\n",
    "    count = count + 1\n",
    "    if count > 1:\n",
    "     with open(os.path.join(subdir,FileName) + '.csv', mode = 'w') as FileName:\n",
    "       File_writer = csv.writer(FileName, delimiter = ',') \n",
    "        \n",
    "       for file in files:\n",
    "        \n",
    "        if str(file).find(\"tif\") != -1:\n",
    "        \n",
    "         tifpath = os.path.join(subdir,file)\n",
    "            \n",
    "         \n",
    "         image = imread(tifpath)\n",
    "         Height = image.shape[1]\n",
    "         Width = image.shape[2]\n",
    "       \n",
    "         \n",
    "         value = (file, T, Height/2, Width/2)\n",
    "         \n",
    "         File_writer.writerow(value)\n",
    "        "
   ]
  },
  {
   "cell_type": "code",
   "execution_count": null,
   "metadata": {},
   "outputs": [],
   "source": []
  }
 ],
 "metadata": {
  "kernelspec": {
   "display_name": "Python [conda env:tensorflowpy3pt5]",
   "language": "python",
   "name": "conda-env-tensorflowpy3pt5-py"
  },
  "language_info": {
   "codemirror_mode": {
    "name": "ipython",
    "version": 3
   },
   "file_extension": ".py",
   "mimetype": "text/x-python",
   "name": "python",
   "nbconvert_exporter": "python",
   "pygments_lexer": "ipython3",
   "version": "3.5.5"
  }
 },
 "nbformat": 4,
 "nbformat_minor": 2
}
