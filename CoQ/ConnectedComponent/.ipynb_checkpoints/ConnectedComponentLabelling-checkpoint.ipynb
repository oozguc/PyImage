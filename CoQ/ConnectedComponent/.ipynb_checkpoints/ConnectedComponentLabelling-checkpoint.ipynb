{
 "cells": [
  {
   "cell_type": "code",
   "execution_count": 30,
   "metadata": {},
   "outputs": [],
   "source": [
    "import sys\n",
    "sys.path.insert(0, \"/Users/aimachine/PyImage/utils\")\n",
    "import numpy as np\n",
    "import tensorflow as tf\n",
    "import importlib\n",
    "import matplotlib.pyplot as plt\n",
    "import os\n",
    "import glob\n",
    "import skimage\n",
    "from skimage import measure\n",
    "from skimage import filters\n",
    "from skimage.morphology import remove_small_objects\n",
    "from skimage.filters import threshold_otsu, gaussian\n",
    "from skimage.exposure import rescale_intensity\n",
    "from tifffile import imread\n",
    "import scipy\n",
    "from scipy import ndimage\n",
    "from Normalize import Path,normalizeMinMax, fill_label_holes, save_tiff_imagej_compatible\n",
    "from skimage.measure import label, regionprops\n",
    "from skimage.morphology import remove_small_objects, binary_erosion\n",
    "from skimage.filters import gaussian"
   ]
  },
  {
   "cell_type": "code",
   "execution_count": 31,
   "metadata": {},
   "outputs": [],
   "source": [
    "basedir = '/Volumes/TRANSCEND/Feb2019/decon_reg_maxProj/Nuclei_Binary/'\n",
    "targetdir = '/Volumes/TRANSCEND/Feb2019/decon_reg_maxProj/Nuclei_Connected/'"
   ]
  },
  {
   "cell_type": "code",
   "execution_count": 32,
   "metadata": {},
   "outputs": [
    {
     "name": "stdout",
     "output_type": "stream",
     "text": [
      "29\n",
      "25 /Volumes/TRANSCEND/Feb2019/decon_reg_maxProj/Nuclei_Binary/Binary_res_MAX_CL60-TL10min-TT4h-Dox1305_visit_18_ch_2-BleachCorrExpFit.tif\n",
      "31 /Volumes/TRANSCEND/Feb2019/decon_reg_maxProj/Nuclei_Binary/Binary_res_MAX_20190117-CL60-TT4h-TL10min-Dox1555_visit_14_ch_2.tif\n"
     ]
    },
    {
     "data": {
      "text/plain": [
       "<function list.sort>"
      ]
     },
     "execution_count": 32,
     "metadata": {},
     "output_type": "execute_result"
    }
   ],
   "source": [
    "Path = os.path.join(basedir, '*.tif')\n",
    "X = []\n",
    "Names = []\n",
    "filesRaw = glob.glob(Path)\n",
    "print(len(filesRaw))\n",
    "maxtime = 0\n",
    "axes = 'TYX'\n",
    "for fname in filesRaw:\n",
    "      \n",
    "      x = imread(fname)\n",
    "      min = np.amin(x)\n",
    "      max = np.amax(x)\n",
    "      x = normalizeMinMax(x, min, max)  \n",
    "      X.append(x)\n",
    "    \n",
    "     \n",
    "      Names.append(fname)\n",
    "      if x.shape[0] > maxtime:\n",
    "        maxtime = x.shape[0]\n",
    "        print(maxtime, fname)\n",
    "X.sort\n",
    "Names.sort\n",
    "\n",
    "\n",
    "\n",
    "\n",
    "    \n",
    "    "
   ]
  },
  {
   "cell_type": "code",
   "execution_count": 33,
   "metadata": {},
   "outputs": [
    {
     "name": "stdout",
     "output_type": "stream",
     "text": [
      "Total number of input images =  29\n",
      "Image size =  (25, 512, 512)\n",
      "Time dim =  31\n"
     ]
    }
   ],
   "source": [
    "ReshapeX = []\n",
    "for i in range(len(X)):\n",
    "    y = np.zeros((maxtime, X[0].shape[1], X[0].shape[2]))\n",
    "    image = X[i]\n",
    "    \n",
    "    y[:X[i].shape[0],:,:] = image[:,:,:]\n",
    "    ReshapeX.append(y)\n",
    "    \n",
    "ReshapeX.sort\n",
    "\n",
    "print('Total number of input images = ', len(X))\n",
    "print('Image size = ', X[0].shape)\n",
    "print('Time dim = ', maxtime)\n",
    "\n",
    "timerange = maxtime"
   ]
  },
  {
   "cell_type": "code",
   "execution_count": 34,
   "metadata": {},
   "outputs": [
    {
     "data": {
      "text/plain": [
       "<matplotlib.image.AxesImage at 0x1113c0dd8>"
      ]
     },
     "execution_count": 34,
     "metadata": {},
     "output_type": "execute_result"
    },
    {
     "data": {
      "image/png": "[encoded data removed]",
      "text/plain": [
       "<Figure size 432x288 with 1 Axes>"
      ]
     },
     "metadata": {},
     "output_type": "display_data"
    }
   ],
   "source": [
    "image = ReshapeX[0]\n",
    "plt.imshow(image[0,:,:])\n",
    "\n"
   ]
  },
  {
   "cell_type": "code",
   "execution_count": 35,
   "metadata": {},
   "outputs": [],
   "source": [
    "RemoveLabel = None\n",
    "RemoveSize = 400"
   ]
  },
  {
   "cell_type": "code",
   "execution_count": 36,
   "metadata": {},
   "outputs": [],
   "source": [
    "def RemoveBad(img):\n",
    "    cleanimage = img\n",
    "    for j in range(timerange):\n",
    "      smallimg = img[j,:,:]\n",
    "      if RemoveLabel is not None:\n",
    "         pureimg = smallimg==RemoveLabel\n",
    "        \n",
    "      cleanimage[j,:,:] = pureimg;  \n",
    "     \n",
    "    return cleanimage"
   ]
  },
  {
   "cell_type": "code",
   "execution_count": 37,
   "metadata": {},
   "outputs": [],
   "source": [
    "def GetLabel(img, erodetimes):\n",
    "    labels = img.copy();\n",
    "    \n",
    "    for j in range(timerange):\n",
    "      smallimg = labels[j,:,:]\n",
    "      \n",
    "      #smallimg = gaussian(smallimg, sigma = 4)\n",
    "      #binary  =  smallimg > 0\n",
    "      if smallimg.any() > 0:\n",
    "       thresh = threshold_otsu(smallimg)\n",
    "         \n",
    "       binary = smallimg > thresh\n",
    "       for i in range(erodetimes): \n",
    "         binary = binary_erosion(binary)  \n",
    "       image_no_hole = fill_label_holes(binary)\n",
    "       label_image = label(image_no_hole)\n",
    "       plt.imshow(label_image)\n",
    "       nonormimg = fill_label_holes(label_image[:,:] )\n",
    "       nonormimg = remove_small_objects(label_image, min_size=RemoveSize, connectivity=4, in_place=False)\n",
    "       \n",
    "       min = np.amin(nonormimg)\n",
    "       max = np.amax(nonormimg)\n",
    "       nonormimg = normalizeMinMax(nonormimg, min, max) \n",
    "        \n",
    "       labels [j,:,:] = nonormimg\n",
    "    return labels "
   ]
  },
  {
   "cell_type": "code",
   "execution_count": 38,
   "metadata": {},
   "outputs": [
    {
     "name": "stderr",
     "output_type": "stream",
     "text": [
      "/Users/aimachine/anaconda3/envs/tensorflowpy3pt5/lib/python3.5/site-packages/skimage/morphology/misc.py:127: UserWarning: Only one label was provided to `remove_small_objects`. Did you mean to use a boolean array?\n",
      "  warn(\"Only one label was provided to `remove_small_objects`. \"\n",
      "/Users/aimachine/PyImage/utils/Normalize.py:48: UserWarning: Converting data type from 'float64' to ImageJ-compatible 'float32'.\n",
      "  warnings.warn(\"Converting data type from '%s' to ImageJ-compatible '%s'.\" % (t, np.dtype(t_new)))\n",
      "/Users/aimachine/PyImage/utils/Normalize.py:197: FutureWarning: Using a non-tuple sequence for multidimensional indexing is deprecated; use `arr[tuple(seq)]` instead of `arr[seq]`. In the future this will be interpreted as an array index, `arr[np.array(seq)]`, which will result either in an error or a different result.\n",
      "  x = x[slices]\n"
     ]
    },
    {
     "data": {
      "image/png": "[encoded data removed]",
      "text/plain": [
       "<Figure size 432x288 with 1 Axes>"
      ]
     },
     "metadata": {},
     "output_type": "display_data"
    }
   ],
   "source": [
    "erodetimes = 0\n",
    "for i in range(0, len(ReshapeX)):\n",
    "  \n",
    "\n",
    "  cleanimage = GetLabel(ReshapeX[i], erodetimes)\n",
    "  save_tiff_imagej_compatible((targetdir + \"InstanceSeg\" +os.path.basename(Names[i])) , cleanimage, axes)  \n",
    "\n",
    "\n",
    " "
   ]
  },
  {
   "cell_type": "code",
   "execution_count": null,
   "metadata": {},
   "outputs": [],
   "source": []
  },
  {
   "cell_type": "code",
   "execution_count": null,
   "metadata": {},
   "outputs": [],
   "source": []
  }
 ],
 "metadata": {
  "kernelspec": {
   "display_name": "Python [conda env:tensorflowpy3pt5]",
   "language": "python",
   "name": "conda-env-tensorflowpy3pt5-py"
  },
  "language_info": {
   "codemirror_mode": {
    "name": "ipython",
    "version": 3
   },
   "file_extension": ".py",
   "mimetype": "text/x-python",
   "name": "python",
   "nbconvert_exporter": "python",
   "pygments_lexer": "ipython3",
   "version": "3.5.5"
  }
 },
 "nbformat": 4,
 "nbformat_minor": 2
}
