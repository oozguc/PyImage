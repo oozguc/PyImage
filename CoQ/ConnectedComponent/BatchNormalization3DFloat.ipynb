{
 "cells": [
  {
   "cell_type": "code",
   "execution_count": 1,
   "metadata": {},
   "outputs": [
    {
     "name": "stderr",
     "output_type": "stream",
     "text": [
      "/Users/aimachine/anaconda3/lib/python3.6/site-packages/h5py/__init__.py:36: FutureWarning: Conversion of the second argument of issubdtype from `float` to `np.floating` is deprecated. In future, it will be treated as `np.float64 == np.dtype(float).type`.\n",
      "  from ._conv import register_converters as _register_converters\n"
     ]
    }
   ],
   "source": [
    "import sys\n",
    "sys.path.insert(0, \"/Users/aimachine/PyImage/utils\")\n",
    "import numpy as np\n",
    "import tensorflow as tf\n",
    "import importlib\n",
    "import matplotlib.pyplot as plt\n",
    "import os\n",
    "import glob\n",
    "import skimage\n",
    "from skimage import measure\n",
    "from skimage import filters\n",
    "\n",
    "from skimage.filters import threshold_otsu\n",
    "from tifffile import imread\n",
    "import scipy\n",
    "from scipy import ndimage\n",
    "from Normalize import normalizeFloat, normalizeMinMax, Path, save_tiff_imagej_compatible,removeBright"
   ]
  },
  {
   "cell_type": "code",
   "execution_count": 2,
   "metadata": {},
   "outputs": [],
   "source": [
    "basedir = '/Users/aimachine/Documents/SwissMTrack/RawMT/'\n",
    "targetdir = '/Users/aimachine/Documents/SwissMTrack/NormalizedRawMT/'\n"
   ]
  },
  {
   "cell_type": "code",
   "execution_count": 3,
   "metadata": {},
   "outputs": [],
   "source": [
    "def Normalize(x):\n",
    "    \n",
    "\n",
    "    y = normalizeFloat(x, clip = True)  \n",
    "    \n",
    "      \n",
    "      \n",
    "    \n",
    "    \n",
    "        \n",
    "    return y  "
   ]
  },
  {
   "cell_type": "code",
   "execution_count": 4,
   "metadata": {},
   "outputs": [
    {
     "name": "stdout",
     "output_type": "stream",
     "text": [
      "Total number of input images =  1\n",
      "Image size =  (595, 1304, 1564)\n"
     ]
    }
   ],
   "source": [
    "Path = os.path.join(basedir, '*.tif')\n",
    "ReshapeX = []\n",
    "Names = []\n",
    "filesRaw = glob.glob(Path)\n",
    "maxtime = 0\n",
    "axes = 'TYX'\n",
    "for fname in filesRaw:\n",
    "      x = imread(fname)\n",
    "      \"\"\"Normalize\"\"\"\n",
    "      x = Normalize(x)\n",
    "      \n",
    "      ReshapeX.append(x)\n",
    "   \n",
    "     \n",
    "      Names.append(fname)\n",
    "      \n",
    "    \n",
    "ReshapeX.sort\n",
    "Names.sort\n",
    "\n",
    "\n",
    "print('Total number of input images = ', len(ReshapeX))\n",
    "print('Image size = ', ReshapeX[0].shape)\n",
    "\n"
   ]
  },
  {
   "cell_type": "code",
   "execution_count": 5,
   "metadata": {},
   "outputs": [
    {
     "name": "stderr",
     "output_type": "stream",
     "text": [
      "/Users/aimachine/anaconda3/lib/python3.6/site-packages/tifffile/tifffile.py:1587: UserWarning: truncating ImageJ file\n",
      "  warnings.warn('truncating ImageJ file')\n"
     ]
    }
   ],
   "source": [
    "for i in range(0, len(ReshapeX)):\n",
    "  img = ReshapeX[i]\n",
    " \n",
    "  save_tiff_imagej_compatible((targetdir + os.path.basename(Names[i])) , img, axes)"
   ]
  },
  {
   "cell_type": "code",
   "execution_count": null,
   "metadata": {},
   "outputs": [],
   "source": []
  }
 ],
 "metadata": {
  "kernelspec": {
   "display_name": "Python [conda env:imagej]",
   "language": "python",
   "name": "conda-env-imagej-py"
  },
  "language_info": {
   "codemirror_mode": {
    "name": "ipython",
    "version": 3
   },
   "file_extension": ".py",
   "mimetype": "text/x-python",
   "name": "python",
   "nbconvert_exporter": "python",
   "pygments_lexer": "ipython3",
   "version": "3.7.2"
  }
 },
 "nbformat": 4,
 "nbformat_minor": 2
}
