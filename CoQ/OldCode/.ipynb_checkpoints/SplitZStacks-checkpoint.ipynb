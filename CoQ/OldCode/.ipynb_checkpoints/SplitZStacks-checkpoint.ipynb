{
 "cells": [
  {
   "cell_type": "code",
   "execution_count": 1,
   "metadata": {},
   "outputs": [
    {
     "name": "stderr",
     "output_type": "stream",
     "text": [
      "/Users/aimachine/anaconda3/envs/tensorflowpy3pt5/lib/python3.5/importlib/_bootstrap.py:222: RuntimeWarning: numpy.dtype size changed, may indicate binary incompatibility. Expected 96, got 88\n",
      "  return f(*args, **kwds)\n",
      "/Users/aimachine/anaconda3/envs/tensorflowpy3pt5/lib/python3.5/importlib/_bootstrap.py:222: RuntimeWarning: numpy.dtype size changed, may indicate binary incompatibility. Expected 96, got 88\n",
      "  return f(*args, **kwds)\n"
     ]
    }
   ],
   "source": [
    "import sys\n",
    "sys.path.insert(0, \"/Users/aimachine/PyImage/utils\")\n",
    "import numpy as np\n",
    "\n",
    "import importlib\n",
    "import matplotlib.pyplot as plt\n",
    "import os\n",
    "import glob\n",
    "import skimage\n",
    "from skimage import measure\n",
    "from skimage import filters\n",
    "from Normalize import normalizeFloat, normalizeMinMax, Path, save_tiff_imagej_compatible\n",
    "from skimage.filters import threshold_otsu\n",
    "from tifffile import imread"
   ]
  },
  {
   "cell_type": "code",
   "execution_count": 2,
   "metadata": {},
   "outputs": [],
   "source": [
    "basedir = '/Volumes/u934/service_imagerie/v_kapoor/CurieTrainingDatasets/Raw_Datasets/DenoisingProjection/NEW/GT/'\n",
    "targetdir =  '/Volumes/u934/service_imagerie/v_kapoor/CurieTrainingDatasets/Raw_Datasets/DenoisingProjection/GT/'"
   ]
  },
  {
   "cell_type": "code",
   "execution_count": 3,
   "metadata": {},
   "outputs": [
    {
     "name": "stdout",
     "output_type": "stream",
     "text": [
      "Total number of input images =  1\n",
      "Image size =  (202, 2048, 2048)\n"
     ]
    }
   ],
   "source": [
    "Path = os.path.join(basedir, '*.tif')\n",
    "BigZ = []\n",
    "Names = []\n",
    "filesRaw = glob.glob(Path)\n",
    "maxtime = 0\n",
    "axes = 'YX'\n",
    "for fname in filesRaw:\n",
    "      x = imread(fname)\n",
    "     \n",
    "      \n",
    "      BigZ.append(x)\n",
    "   \n",
    "     \n",
    "      Names.append(fname)\n",
    "      \n",
    "    \n",
    "BigZ.sort\n",
    "Names.sort\n",
    "\n",
    "CommonName = '40x_bin1_05_5min_1_w2CSU-488_s7_t'\n",
    "print('Total number of input images = ', len(BigZ))\n",
    "print('Image size = ', BigZ[0].shape)"
   ]
  },
  {
   "cell_type": "code",
   "execution_count": 4,
   "metadata": {},
   "outputs": [],
   "source": [
    "for i in range(0, len(BigZ)):\n",
    "  img = BigZ[i]\n",
    "  for j in range(0, img.shape[0]):\n",
    "    smallimg = img[j,:,:]\n",
    "    save_tiff_imagej_compatible((targetdir + CommonName + str(j + 1)+ '.tif') , smallimg, axes)"
   ]
  },
  {
   "cell_type": "code",
   "execution_count": null,
   "metadata": {},
   "outputs": [],
   "source": []
  }
 ],
 "metadata": {
  "kernelspec": {
   "display_name": "Python [conda env:tensorflowpy3pt5]",
   "language": "python",
   "name": "conda-env-tensorflowpy3pt5-py"
  },
  "language_info": {
   "codemirror_mode": {
    "name": "ipython",
    "version": 3
   },
   "file_extension": ".py",
   "mimetype": "text/x-python",
   "name": "python",
   "nbconvert_exporter": "python",
   "pygments_lexer": "ipython3",
   "version": "3.5.5"
  }
 },
 "nbformat": 4,
 "nbformat_minor": 2
}
