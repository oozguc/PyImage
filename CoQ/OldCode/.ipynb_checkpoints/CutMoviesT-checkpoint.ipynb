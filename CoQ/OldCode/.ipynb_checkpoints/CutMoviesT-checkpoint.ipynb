{
 "cells": [
  {
   "cell_type": "code",
   "execution_count": 28,
   "metadata": {},
   "outputs": [],
   "source": [
    "import sys\n",
    "sys.path.insert(0, \"/Users/aimachine/PyImage/utils\")\n",
    "import numpy as np\n",
    "import tensorflow as tf\n",
    "import importlib\n",
    "import matplotlib.pyplot as plt\n",
    "import os\n",
    "import glob\n",
    "import skimage\n",
    "from skimage import measure\n",
    "from skimage import filters\n",
    "from skimage.morphology import remove_small_objects\n",
    "from skimage.filters import threshold_otsu, gaussian\n",
    "from skimage.exposure import rescale_intensity\n",
    "from tifffile import imread\n",
    "import scipy\n",
    "from scipy import ndimage\n",
    "from Normalize import Path,normalizeMinMax, fill_label_holes, save_tiff_imagej_compatible\n",
    "from skimage.measure import label, regionprops\n",
    "from skimage.morphology import remove_small_objects, binary_erosion"
   ]
  },
  {
   "cell_type": "code",
   "execution_count": 33,
   "metadata": {},
   "outputs": [],
   "source": [
    "basedir = '/Users/aimachine/Documents/Apoptosis_Data/From_Victoire/Training_Set_DelAndDiv/InterestingMovies/RotatedApoptosisMovies/'\n",
    "targetdir = '/Users/aimachine/Documents/Apoptosis_Data/From_Victoire/Training_Set_DelAndDiv/InterestingMovies/RotatedTruncatedApoptosisMovies/'"
   ]
  },
  {
   "cell_type": "code",
   "execution_count": 34,
   "metadata": {},
   "outputs": [
    {
     "name": "stdout",
     "output_type": "stream",
     "text": [
      "Total number of input images =  477\n",
      "Image size =  (7, 41, 41)\n",
      "Time dim =  7\n"
     ]
    }
   ],
   "source": [
    "Path = os.path.join(basedir, '*.tif')\n",
    "X = []\n",
    "Names = []\n",
    "filesRaw = glob.glob(Path)\n",
    "maxtime = 0\n",
    "axes = 'TYX'\n",
    "for fname in filesRaw:\n",
    "      x = imread(fname)\n",
    "      min = np.amin(x)\n",
    "      max = np.amax(x)\n",
    "      x = normalizeMinMax(x, min, max)  \n",
    "      X.append(x)\n",
    "    \n",
    "     \n",
    "      Names.append(fname)\n",
    "      if X[0].shape[0] > maxtime:\n",
    "        maxtime = X[0].shape[0]\n",
    "X.sort\n",
    "Names.sort\n",
    "\n",
    "\n",
    "ReshapeX = []\n",
    "for i in range(len(X)):\n",
    "    y = np.zeros((maxtime, X[0].shape[1], X[0].shape[2]))\n",
    "    image = X[i]\n",
    "    \n",
    "    y[:X[i].shape[0],:,:] = image[:,:,:]\n",
    "    ReshapeX.append(y)\n",
    "    \n",
    "ReshapeX.sort\n",
    "\n",
    "print('Total number of input images = ', len(X))\n",
    "print('Image size = ', X[0].shape)\n",
    "print('Time dim = ', maxtime)\n",
    "\n",
    "timerange = maxtime\n"
   ]
  },
  {
   "cell_type": "code",
   "execution_count": 35,
   "metadata": {},
   "outputs": [],
   "source": [
    "def CutMiddle(img, startcut, endcut):\n",
    "    cutrange = endcut -startcut\n",
    "    cutimg = img[startcut:endcut,:,:]\n",
    "    \n",
    "    return cutimg\n",
    "       \n",
    "    "
   ]
  },
  {
   "cell_type": "code",
   "execution_count": 36,
   "metadata": {},
   "outputs": [
    {
     "name": "stderr",
     "output_type": "stream",
     "text": [
      "/Users/aimachine/PyImage/utils/Normalize.py:48: UserWarning: Converting data type from 'float64' to ImageJ-compatible 'float32'.\n",
      "  warnings.warn(\"Converting data type from '%s' to ImageJ-compatible '%s'.\" % (t, np.dtype(t_new)))\n",
      "/Users/aimachine/PyImage/utils/Normalize.py:160: FutureWarning: Using a non-tuple sequence for multidimensional indexing is deprecated; use `arr[tuple(seq)]` instead of `arr[seq]`. In the future this will be interpreted as an array index, `arr[np.array(seq)]`, which will result either in an error or a different result.\n",
      "  x = x[slices]\n"
     ]
    }
   ],
   "source": [
    "for i in range(0, len(ReshapeX)):\n",
    "    cutimg = CutMiddle(ReshapeX[i],3,6)\n",
    "    save_tiff_imagej_compatible((targetdir + \"Cut\" +os.path.basename(Names[i])) , cutimg, axes) "
   ]
  },
  {
   "cell_type": "code",
   "execution_count": null,
   "metadata": {},
   "outputs": [],
   "source": []
  }
 ],
 "metadata": {
  "kernelspec": {
   "display_name": "Python [conda env:tensorflowpy3pt5]",
   "language": "python",
   "name": "conda-env-tensorflowpy3pt5-py"
  },
  "language_info": {
   "codemirror_mode": {
    "name": "ipython",
    "version": 3
   },
   "file_extension": ".py",
   "mimetype": "text/x-python",
   "name": "python",
   "nbconvert_exporter": "python",
   "pygments_lexer": "ipython3",
   "version": "3.5.5"
  }
 },
 "nbformat": 4,
 "nbformat_minor": 2
}
